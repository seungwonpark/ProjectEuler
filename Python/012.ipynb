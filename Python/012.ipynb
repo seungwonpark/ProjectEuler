{
 "cells": [
  {
   "cell_type": "markdown",
   "metadata": {},
   "source": [
    "Make the list of primes under 'appropriate' number"
   ]
  },
  {
   "cell_type": "code",
   "execution_count": 18,
   "metadata": {
    "collapsed": false
   },
   "outputs": [],
   "source": [
    "primes = [2]\n",
    "for i in range(3,1000000):\n",
    "    isPrime = True\n",
    "    for j in range(0,len(primes)):\n",
    "        if(i % primes[j] == 0):\n",
    "            isPrime = False\n",
    "            break\n",
    "        if(primes[j]*primes[j]>i):\n",
    "            break\n",
    "    if(isPrime):\n",
    "        primes.append(i)"
   ]
  },
  {
   "cell_type": "markdown",
   "metadata": {},
   "source": [
    "Define the function : number of positive divisors of positive integer"
   ]
  },
  {
   "cell_type": "code",
   "execution_count": 24,
   "metadata": {
    "collapsed": true
   },
   "outputs": [],
   "source": [
    "def div(x):\n",
    "    ans = 1\n",
    "    for j in range(0,len(primes)):\n",
    "        temp = 1\n",
    "        if(x < primes[j]*primes[j]):\n",
    "            if(x>1):\n",
    "                ans *= 2\n",
    "            break\n",
    "        while(x % primes[j] == 0):\n",
    "            x /= primes[j]\n",
    "            temp += 1\n",
    "        ans *= temp\n",
    "    return ans"
   ]
  },
  {
   "cell_type": "code",
   "execution_count": 22,
   "metadata": {
    "collapsed": false
   },
   "outputs": [
    {
     "name": "stdout",
     "output_type": "stream",
     "text": [
      "4\n"
     ]
    }
   ],
   "source": [
    "print (div(10))"
   ]
  },
  {
   "cell_type": "markdown",
   "metadata": {},
   "source": [
    "works well"
   ]
  },
  {
   "cell_type": "code",
   "execution_count": 26,
   "metadata": {
    "collapsed": false,
    "scrolled": true
   },
   "outputs": [
    {
     "name": "stdout",
     "output_type": "stream",
     "text": [
      "76576500\n"
     ]
    }
   ],
   "source": [
    "for i in range(1,1000000):\n",
    "    val = int(i*(i+1)/2)\n",
    "    if(div(val) > 500):\n",
    "        print(val)\n",
    "        break"
   ]
  }
 ],
 "metadata": {
  "kernelspec": {
   "display_name": "Python [Root]",
   "language": "python",
   "name": "Python [Root]"
  },
  "language_info": {
   "codemirror_mode": {
    "name": "ipython",
    "version": 3
   },
   "file_extension": ".py",
   "mimetype": "text/x-python",
   "name": "python",
   "nbconvert_exporter": "python",
   "pygments_lexer": "ipython3",
   "version": "3.5.2"
  }
 },
 "nbformat": 4,
 "nbformat_minor": 0
}
